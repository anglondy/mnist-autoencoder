{
 "nbformat": 4,
 "nbformat_minor": 0,
 "metadata": {
  "accelerator": "GPU",
  "colab": {
   "name": "task2.ipynb",
   "provenance": [],
   "collapsed_sections": [],
   "mount_file_id": "1hMdhdOkrhOlL9HATCQPmXtt_ube99WhY",
   "authorship_tag": "ABX9TyNbOHU+w4+ZnLObBQsbx/sB"
  },
  "kernelspec": {
   "name": "python3",
   "language": "python",
   "display_name": "Python 3"
  },
  "language_info": {
   "name": "python"
  }
 },
 "cells": [
  {
   "cell_type": "code",
   "metadata": {
    "id": "-qJ3kNQoKwpo",
    "executionInfo": {
     "status": "ok",
     "timestamp": 1629905231352,
     "user_tz": -180,
     "elapsed": 4120,
     "user": {
      "displayName": "Denys Derkach",
      "photoUrl": "https://lh3.googleusercontent.com/a-/AOh14GgJPjYUwEOIxT24dE8A9IyWRFkYtWjhDsN7i19e5w=s64",
      "userId": "00841824565919282778"
     }
    }
   },
   "source": [
    "import numpy as np\n",
    "import tensorflow as tf\n",
    "import matplotlib.pyplot as plt\n",
    "from tensorflow.keras.layers import Flatten, Conv2D, Dense, MaxPooling2D, Reshape, UpSampling2D, Conv2DTranspose"
   ],
   "execution_count": 1,
   "outputs": []
  },
  {
   "cell_type": "code",
   "metadata": {
    "id": "vLEkM5SeqwQV",
    "executionInfo": {
     "status": "ok",
     "timestamp": 1629905748324,
     "user_tz": -180,
     "elapsed": 612,
     "user": {
      "displayName": "Denys Derkach",
      "photoUrl": "https://lh3.googleusercontent.com/a-/AOh14GgJPjYUwEOIxT24dE8A9IyWRFkYtWjhDsN7i19e5w=s64",
      "userId": "00841824565919282778"
     }
    }
   },
   "source": [
    "def get_noisy_data(array, factor: float):\n",
    "    return tf.clip_by_value(array + factor * np.random.normal(size=array.shape), clip_value_min=0, clip_value_max=1).numpy()\n",
    "\n",
    "\n",
    "def plot_results(model, test_set_x, noise_factor = 0.4, n_imgs = 10, n_iters=1):\n",
    "    _set = get_noisy_data(test_set_x[:n_imgs], noise_factor)\n",
    "    predicted = model.predict(_set)\n",
    "    for _ in range(n_iters - 1):\n",
    "        predicted = model.predict(predicted)\n",
    "    \n",
    "    plt.figure(figsize=(20, 8))\n",
    "    for i in range(n_imgs):\n",
    "        ax = plt.subplot(4, n_imgs, i + 1)\n",
    "        plt.imshow(_set[i].reshape(28, 28))\n",
    "        plt.gray()\n",
    "        ax.get_xaxis().set_visible(False)\n",
    "        ax.get_yaxis().set_visible(False)\n",
    "\n",
    "        ax = plt.subplot(4, n_imgs, i + 1 + n_imgs)\n",
    "        plt.imshow(predicted[i].reshape(28, 28))\n",
    "        plt.gray()\n",
    "        ax.get_xaxis().set_visible(False)\n",
    "        ax.get_yaxis().set_visible(False)\n",
    "\n",
    "        ax = plt.subplot(4, n_imgs, i + 1 + 2 * n_imgs)\n",
    "        plt.imshow(model.predict(test_set_x[i].reshape(1, 28, 28, 1)).reshape(28, 28))\n",
    "        plt.gray()\n",
    "        ax.get_xaxis().set_visible(False)\n",
    "        ax.get_yaxis().set_visible(False)\n",
    "\n",
    "        ax = plt.subplot(4, n_imgs, i + 1 + 3 * n_imgs)\n",
    "        plt.imshow(test_set_x[i].reshape(28, 28))\n",
    "        plt.gray()\n",
    "        ax.get_xaxis().set_visible(False)\n",
    "        ax.get_yaxis().set_visible(False)\n",
    "\n",
    "    plt.show() \n",
    "\n",
    "\n",
    "def test_accuracy(model_classifier, model_autoencoder, test_set_x, test_set_y, noise_factor = 0.4, n_iter = 5):\n",
    "    noisy_test_set = get_noisy_data(test_set_x, noise_factor)\n",
    "    labels = model_classifier.predict(test_set_x)\n",
    "    labels = np.argmax(labels, axis=1)\n",
    "    acc = (np.where(labels == test_set_y, 1, 0)).mean()\n",
    "    print('Accuracy of the model (without noise):', acc)\n",
    "\n",
    "    labels = model_classifier.predict(noisy_test_set)\n",
    "    labels = np.argmax(labels, axis=1)\n",
    "    acc = (np.where(labels == test_set_y, 1, 0)).mean()\n",
    "    print('Accuracy of the model (with noise):', acc)\n",
    "\n",
    "    results = noisy_test_set[:]\n",
    "    for i in range(n_iter):\n",
    "        results = model_autoencoder.predict(results)\n",
    "        labels = model_classifier.predict(results)\n",
    "        labels = np.argmax(labels, axis=1)\n",
    "        acc = (np.where(labels == test_set_y, 1, 0)).mean()\n",
    "        print(f'Accuracy of the model after {i + 1}-iteration', acc)\n",
    "\n",
    "\n",
    "def test_noise_acc_cl(model_classifier, test_set_x, test_set_y, n_steps = 20):\n",
    "    labels = model_classifier.predict(test_set_x)\n",
    "    labels = np.argmax(labels, axis=1)\n",
    "    acc = (np.where(labels == test_set_y, 1, 0)).mean()\n",
    "    print('Accuracy of the model (without noise):', acc)\n",
    "\n",
    "    for j in range(n_steps + 1):\n",
    "        noise_factor = 0.1 + j * (0.8 / n_steps)\n",
    "        noisy_test_set = get_noisy_data(test_set_x, noise_factor)\n",
    "        labels = model_classifier.predict(noisy_test_set)\n",
    "        labels = np.argmax(labels, axis=1)\n",
    "        acc_old = (np.where(labels == test_set_y, 1, 0)).mean()\n",
    "\n",
    "        print(f'Accuracy of the model (with noise factor = {noise_factor}): {acc_old}')\n",
    "\n",
    "\n",
    "def test_noise_acc(model_classifier, model_autoencoder, test_set_x, test_set_y, n_iter = 1, n_steps = 20):\n",
    "    labels = model_classifier.predict(test_set_x)\n",
    "    labels = np.argmax(labels, axis=1)\n",
    "    acc = (np.where(labels == test_set_y, 1, 0)).mean()\n",
    "    print('Accuracy of the model (without noise):', acc)\n",
    "\n",
    "    for j in range(n_steps + 1):\n",
    "        noise_factor = 0.1 + j * (0.8 / n_steps)\n",
    "        noisy_test_set = get_noisy_data(test_set_x, noise_factor)\n",
    "        labels = model_classifier.predict(noisy_test_set)\n",
    "        labels = np.argmax(labels, axis=1)\n",
    "        acc_old = (np.where(labels == test_set_y, 1, 0)).mean()\n",
    "\n",
    "        results = noisy_test_set[:]\n",
    "        for i in range(n_iter):\n",
    "            results = model_autoencoder.predict(results)\n",
    "        labels = model_classifier.predict(results)\n",
    "        labels = np.argmax(labels, axis=1)\n",
    "        acc = (np.where(labels == test_set_y, 1, 0)).mean()\n",
    "        print(f'Accuracy of the model (with noise factor = {noise_factor}): {acc_old},  after using autoencoder: {acc}, diff = {acc - acc_old}, diff(%): {(acc - acc_old) / acc_old * 100}')\n",
    "\n",
    "\n",
    "def test_model_autoencoder(model_classifier, model_autoencoder, test_set_x, test_set_y, noise_factor = 0.5, n_iter_noise = 1):\n",
    "    print(f'First line - noisy images made from test data (noise factor = {noise_factor})\\nSecond line - encoded images made from noisy data\\nThird line - encoded images made from test data\\nFourth line - test data')\n",
    "    plot_results(model_autoencoder, test_set_x, noise_factor = noise_factor)\n",
    "    print('')\n",
    "    test_accuracy(model_classifier, model_autoencoder, test_set_x, test_set_y, noise_factor = noise_factor, n_iter = 5)\n",
    "    print('')\n",
    "    test_noise_acc(model_classifier, model_autoencoder, test_set_x, test_set_y, n_iter = n_iter_noise, n_steps = 8)\n",
    "\n",
    "\n",
    "def plot_one_img(id, model, test_set_x, noise_factor = 0.5):\n",
    "    img = test_set_x[id].reshape(1, 28, 28, 1)\n",
    "    noisy_img = get_noisy_data(img, noise_factor)\n",
    "    output_img = model.predict(noisy_img)\n",
    "\n",
    "    ax = plt.subplot(1, 3, 1)\n",
    "    plt.imshow(img.reshape(28, 28))\n",
    "    plt.gray()\n",
    "    ax.get_xaxis().set_visible(False)\n",
    "    ax.get_yaxis().set_visible(False)\n",
    "\n",
    "    ax = plt.subplot(1, 3, 2)\n",
    "    plt.imshow(noisy_img.reshape(28, 28))\n",
    "    plt.gray()\n",
    "    ax.get_xaxis().set_visible(False)\n",
    "    ax.get_yaxis().set_visible(False)\n",
    "\n",
    "    ax = plt.subplot(1, 3, 3)\n",
    "    plt.imshow(output_img.reshape(28, 28))\n",
    "    plt.gray()\n",
    "    ax.get_xaxis().set_visible(False)\n",
    "    ax.get_yaxis().set_visible(False)\n"
   ],
   "execution_count": 2,
   "outputs": []
  },
  {
   "cell_type": "code",
   "metadata": {
    "id": "HQWqgalBLL_b",
    "executionInfo": {
     "status": "ok",
     "timestamp": 1629905231359,
     "user_tz": -180,
     "elapsed": 11,
     "user": {
      "displayName": "Denys Derkach",
      "photoUrl": "https://lh3.googleusercontent.com/a-/AOh14GgJPjYUwEOIxT24dE8A9IyWRFkYtWjhDsN7i19e5w=s64",
      "userId": "00841824565919282778"
     }
    }
   },
   "source": [
    "mnist = tf.keras.datasets.mnist"
   ],
   "execution_count": 3,
   "outputs": []
  },
  {
   "cell_type": "code",
   "metadata": {
    "id": "dRGhi3i-NEYz",
    "executionInfo": {
     "status": "ok",
     "timestamp": 1629905232147,
     "user_tz": -180,
     "elapsed": 797,
     "user": {
      "displayName": "Denys Derkach",
      "photoUrl": "https://lh3.googleusercontent.com/a-/AOh14GgJPjYUwEOIxT24dE8A9IyWRFkYtWjhDsN7i19e5w=s64",
      "userId": "00841824565919282778"
     }
    }
   },
   "source": [
    "# simple data preparations\n",
    "(x_train, y_train), (x_test, y_test) = mnist.load_data()\n",
    "x_train = x_train / 255\n",
    "x_test = x_test / 255\n",
    "x_train = x_train.reshape(-1, 28, 28, 1)\n",
    "x_test = x_test.reshape(-1, 28, 28, 1)"
   ],
   "execution_count": 4,
   "outputs": []
  },
  {
   "cell_type": "code",
   "metadata": {
    "id": "y7VxWi17NzK4"
   },
   "source": [
    "# model that will show how accurate autoencoders are\n",
    "model_classifier = tf.keras.Sequential([\n",
    "                                        Conv2D(32, 3, activation='relu', input_shape=(28, 28, 1)),\n",
    "                                        MaxPooling2D(2, 2),\n",
    "                                        Conv2D(64, 3, activation='relu'),\n",
    "                                        MaxPooling2D(2, 2),\n",
    "                                        Flatten(),\n",
    "                                        Dense(128, activation='relu'),\n",
    "                                        Dense(10, activation='softmax')\n",
    "])\n",
    "model_classifier.summary()\n",
    "\n",
    "model_classifier.compile(optimizer='adam', loss='sparse_categorical_crossentropy', metrics=['acc'])\n",
    "\n",
    "# model_classifier.fit(x_train, y_train, epochs=2, validation_data=(x_test, y_test))\n",
    "\n",
    "model_classifier = tf.keras.models.load_model('models/model_classifier.h5')"
   ],
   "execution_count": 5,
   "outputs": [
    {
     "name": "stdout",
     "output_type": "stream",
     "text": [
      "Model: \"sequential\"\n",
      "_________________________________________________________________\n",
      "Layer (type)                 Output Shape              Param #   \n",
      "=================================================================\n",
      "conv2d (Conv2D)              (None, 26, 26, 32)        320       \n",
      "_________________________________________________________________\n",
      "max_pooling2d (MaxPooling2D) (None, 13, 13, 32)        0         \n",
      "_________________________________________________________________\n",
      "conv2d_1 (Conv2D)            (None, 11, 11, 64)        18496     \n",
      "_________________________________________________________________\n",
      "max_pooling2d_1 (MaxPooling2 (None, 5, 5, 64)          0         \n",
      "_________________________________________________________________\n",
      "flatten (Flatten)            (None, 1600)              0         \n",
      "_________________________________________________________________\n",
      "dense (Dense)                (None, 128)               204928    \n",
      "_________________________________________________________________\n",
      "dense_1 (Dense)              (None, 10)                1290      \n",
      "=================================================================\n",
      "Total params: 225,034\n",
      "Trainable params: 225,034\n",
      "Non-trainable params: 0\n",
      "_________________________________________________________________\n"
     ]
    }
   ]
  },
  {
   "cell_type": "code",
   "metadata": {
    "colab": {
     "base_uri": "https://localhost:8080/"
    },
    "id": "FBpZxnZePVMc",
    "executionInfo": {
     "status": "ok",
     "timestamp": 1629901924693,
     "user_tz": -180,
     "elapsed": 26,
     "user": {
      "displayName": "Denys Derkach",
      "photoUrl": "https://lh3.googleusercontent.com/a-/AOh14GgJPjYUwEOIxT24dE8A9IyWRFkYtWjhDsN7i19e5w=s64",
      "userId": "00841824565919282778"
     }
    },
    "outputId": "cceb2ee3-490b-41e4-fdc2-5ab68d7edd5d"
   },
   "source": [
    "model_linear = tf.keras.Sequential([\n",
    "                                    Flatten(input_shape=(28, 28, 1)),\n",
    "                                    Dense(128, activation='relu'),\n",
    "                                    Dense(28 * 28, activation='sigmoid'),\n",
    "                                    Reshape((28, 28, 1))\n",
    "])\n",
    "model_linear.summary()\n",
    "\n",
    "model_linear.compile(optimizer='adam', loss='binary_crossentropy', metrics=['mae'])\n",
    "\n",
    "# model_linear.fit(x_train, x_train, epochs=15, validation_data=(x_test, x_test))"
   ],
   "execution_count": 6,
   "outputs": [
    {
     "name": "stdout",
     "output_type": "stream",
     "text": [
      "Model: \"sequential_1\"\n",
      "_________________________________________________________________\n",
      "Layer (type)                 Output Shape              Param #   \n",
      "=================================================================\n",
      "flatten_1 (Flatten)          (None, 784)               0         \n",
      "_________________________________________________________________\n",
      "dense_2 (Dense)              (None, 128)               100480    \n",
      "_________________________________________________________________\n",
      "dense_3 (Dense)              (None, 784)               101136    \n",
      "_________________________________________________________________\n",
      "reshape (Reshape)            (None, 28, 28, 1)         0         \n",
      "=================================================================\n",
      "Total params: 201,616\n",
      "Trainable params: 201,616\n",
      "Non-trainable params: 0\n",
      "_________________________________________________________________\n"
     ]
    }
   ]
  },
  {
   "cell_type": "code",
   "metadata": {
    "id": "k7auvXdGqDDf",
    "colab": {
     "base_uri": "https://localhost:8080/"
    },
    "executionInfo": {
     "status": "ok",
     "timestamp": 1629901924694,
     "user_tz": -180,
     "elapsed": 21,
     "user": {
      "displayName": "Denys Derkach",
      "photoUrl": "https://lh3.googleusercontent.com/a-/AOh14GgJPjYUwEOIxT24dE8A9IyWRFkYtWjhDsN7i19e5w=s64",
      "userId": "00841824565919282778"
     }
    },
    "outputId": "ffcd7ee7-026d-4064-e2bf-e507cc9255fe"
   },
   "source": [
    "model_dcnn_large = tf.keras.Sequential([\n",
    "                                        Conv2D(32, 3, padding='same', activation='relu', input_shape=(28, 28, 1)),\n",
    "                                        MaxPooling2D(2, 2),\n",
    "                                        Conv2D(64, 3, padding='same', activation='relu'),\n",
    "                                        MaxPooling2D(2, 2),\n",
    "                                        Conv2D(128, 3, padding='same', activation='relu'),\n",
    "                                        Conv2DTranspose(64, 3, padding='same', activation='relu'),\n",
    "                                        UpSampling2D((2, 2)),\n",
    "                                        Conv2DTranspose(32, 3, padding='same', activation='relu'),\n",
    "                                        UpSampling2D((2, 2)),\n",
    "                                        Conv2D(1, 3, padding='same', activation='sigmoid')\n",
    "])\n",
    "model_dcnn_large.summary()\n",
    "\n",
    "model_dcnn_large.compile(optimizer='adam', loss='binary_crossentropy', metrics=['mse'])\n",
    "\n",
    "# model_dcnn_large.fit(x_train, x_train, epochs=10, validation_data=(x_test, x_test))"
   ],
   "execution_count": 7,
   "outputs": [
    {
     "name": "stdout",
     "output_type": "stream",
     "text": [
      "Model: \"sequential_2\"\n",
      "_________________________________________________________________\n",
      "Layer (type)                 Output Shape              Param #   \n",
      "=================================================================\n",
      "conv2d_2 (Conv2D)            (None, 28, 28, 32)        320       \n",
      "_________________________________________________________________\n",
      "max_pooling2d_2 (MaxPooling2 (None, 14, 14, 32)        0         \n",
      "_________________________________________________________________\n",
      "conv2d_3 (Conv2D)            (None, 14, 14, 64)        18496     \n",
      "_________________________________________________________________\n",
      "max_pooling2d_3 (MaxPooling2 (None, 7, 7, 64)          0         \n",
      "_________________________________________________________________\n",
      "conv2d_4 (Conv2D)            (None, 7, 7, 128)         73856     \n",
      "_________________________________________________________________\n",
      "conv2d_transpose (Conv2DTran (None, 7, 7, 64)          73792     \n",
      "_________________________________________________________________\n",
      "up_sampling2d (UpSampling2D) (None, 14, 14, 64)        0         \n",
      "_________________________________________________________________\n",
      "conv2d_transpose_1 (Conv2DTr (None, 14, 14, 32)        18464     \n",
      "_________________________________________________________________\n",
      "up_sampling2d_1 (UpSampling2 (None, 28, 28, 32)        0         \n",
      "_________________________________________________________________\n",
      "conv2d_5 (Conv2D)            (None, 28, 28, 1)         289       \n",
      "=================================================================\n",
      "Total params: 185,217\n",
      "Trainable params: 185,217\n",
      "Non-trainable params: 0\n",
      "_________________________________________________________________\n"
     ]
    }
   ]
  },
  {
   "cell_type": "code",
   "metadata": {
    "colab": {
     "base_uri": "https://localhost:8080/"
    },
    "id": "0l-UqtK_kVjz",
    "executionInfo": {
     "status": "ok",
     "timestamp": 1629905276298,
     "user_tz": -180,
     "elapsed": 26,
     "user": {
      "displayName": "Denys Derkach",
      "photoUrl": "https://lh3.googleusercontent.com/a-/AOh14GgJPjYUwEOIxT24dE8A9IyWRFkYtWjhDsN7i19e5w=s64",
      "userId": "00841824565919282778"
     }
    },
    "outputId": "613004aa-c87a-46be-b923-ee66e83d360a"
   },
   "source": [
    "model_dcnn_medium = tf.keras.Sequential([\n",
    "                                         Conv2D(16, 3, padding='same', activation='relu', input_shape=(28, 28, 1)),\n",
    "                                         MaxPooling2D(2, 2),\n",
    "                                         Conv2D(32, 3, padding='same', activation='relu'),\n",
    "                                         MaxPooling2D(2, 2),\n",
    "                                         Conv2D(64, 3, padding='same', activation='relu'),\n",
    "                                         Conv2DTranspose(32, 3, padding='same', activation='relu'),\n",
    "                                         UpSampling2D((2, 2)),\n",
    "                                         Conv2DTranspose(16, 3, padding='same', activation='relu'),\n",
    "                                         UpSampling2D((2, 2)),\n",
    "                                         Conv2D(1, 3, padding='same', activation='sigmoid')\n",
    "])\n",
    "model_dcnn_medium.summary()\n",
    "\n",
    "model_dcnn_medium.compile(optimizer='sgd', loss='binary_crossentropy', metrics=['mse'])\n"
   ],
   "execution_count": 8,
   "outputs": [
    {
     "name": "stdout",
     "output_type": "stream",
     "text": [
      "Model: \"sequential_3\"\n",
      "_________________________________________________________________\n",
      "Layer (type)                 Output Shape              Param #   \n",
      "=================================================================\n",
      "conv2d_6 (Conv2D)            (None, 28, 28, 16)        160       \n",
      "_________________________________________________________________\n",
      "max_pooling2d_4 (MaxPooling2 (None, 14, 14, 16)        0         \n",
      "_________________________________________________________________\n",
      "conv2d_7 (Conv2D)            (None, 14, 14, 32)        4640      \n",
      "_________________________________________________________________\n",
      "max_pooling2d_5 (MaxPooling2 (None, 7, 7, 32)          0         \n",
      "_________________________________________________________________\n",
      "conv2d_8 (Conv2D)            (None, 7, 7, 64)          18496     \n",
      "_________________________________________________________________\n",
      "conv2d_transpose_2 (Conv2DTr (None, 7, 7, 32)          18464     \n",
      "_________________________________________________________________\n",
      "up_sampling2d_2 (UpSampling2 (None, 14, 14, 32)        0         \n",
      "_________________________________________________________________\n",
      "conv2d_transpose_3 (Conv2DTr (None, 14, 14, 16)        4624      \n",
      "_________________________________________________________________\n",
      "up_sampling2d_3 (UpSampling2 (None, 28, 28, 16)        0         \n",
      "_________________________________________________________________\n",
      "conv2d_9 (Conv2D)            (None, 28, 28, 1)         145       \n",
      "=================================================================\n",
      "Total params: 46,529\n",
      "Trainable params: 46,529\n",
      "Non-trainable params: 0\n",
      "_________________________________________________________________\n"
     ]
    }
   ]
  },
  {
   "cell_type": "code",
   "metadata": {
    "colab": {
     "base_uri": "https://localhost:8080/",
     "height": 323
    },
    "id": "-_xZvDIR4sVP",
    "executionInfo": {
     "status": "error",
     "timestamp": 1629906037298,
     "user_tz": -180,
     "elapsed": 319,
     "user": {
      "displayName": "Denys Derkach",
      "photoUrl": "https://lh3.googleusercontent.com/a-/AOh14GgJPjYUwEOIxT24dE8A9IyWRFkYtWjhDsN7i19e5w=s64",
      "userId": "00841824565919282778"
     }
    },
    "outputId": "078915ff-cb3e-49a6-e548-975ae0a4d81b"
   },
   "source": [
    "# model_dcnn_medium.fit(x_train, x_train, epochs=10, validation_data=(x_test, x_test))\n",
    "model_dcnn_medium = tf.keras.models.load_model('models/model_dcnn_medium.h5')"
   ],
   "execution_count": 9,
   "outputs": []
  },
  {
   "cell_type": "code",
   "metadata": {
    "colab": {
     "base_uri": "https://localhost:8080/"
    },
    "id": "tGDF41O9I9Dq",
    "executionInfo": {
     "status": "ok",
     "timestamp": 1629901925206,
     "user_tz": -180,
     "elapsed": 24,
     "user": {
      "displayName": "Denys Derkach",
      "photoUrl": "https://lh3.googleusercontent.com/a-/AOh14GgJPjYUwEOIxT24dE8A9IyWRFkYtWjhDsN7i19e5w=s64",
      "userId": "00841824565919282778"
     }
    },
    "outputId": "91f3f870-324f-426e-c993-f53a66e0038d"
   },
   "source": [
    "model_dcnn_small = tf.keras.Sequential([\n",
    "                                        Conv2D(8, 3, padding='same', activation='relu', input_shape=(28, 28, 1)),\n",
    "                                        MaxPooling2D(2, 2),\n",
    "                                        Conv2D(16, 3, padding='same', activation='relu'),\n",
    "                                        MaxPooling2D(2, 2),\n",
    "                                        Conv2D(32, 3, padding='same', activation='relu'),\n",
    "                                        Conv2DTranspose(16, 3, padding='same', activation='relu'),\n",
    "                                        UpSampling2D((2, 2)),\n",
    "                                        Conv2DTranspose(8, 3, padding='same', activation='relu'),\n",
    "                                        UpSampling2D((2, 2)),\n",
    "                                        Conv2D(1, 3, padding='same', activation='sigmoid')\n",
    "])\n",
    "model_dcnn_small.summary()\n",
    "\n",
    "model_dcnn_small.compile(optimizer='adam', loss='binary_crossentropy', metrics=['mse'])\n",
    "\n",
    "# model_dcnn_small.fit(x_train, x_train, epochs=10, validation_data=(x_test, x_test))"
   ],
   "execution_count": 10,
   "outputs": [
    {
     "name": "stdout",
     "output_type": "stream",
     "text": [
      "Model: \"sequential_4\"\n",
      "_________________________________________________________________\n",
      "Layer (type)                 Output Shape              Param #   \n",
      "=================================================================\n",
      "conv2d_10 (Conv2D)           (None, 28, 28, 8)         80        \n",
      "_________________________________________________________________\n",
      "max_pooling2d_6 (MaxPooling2 (None, 14, 14, 8)         0         \n",
      "_________________________________________________________________\n",
      "conv2d_11 (Conv2D)           (None, 14, 14, 16)        1168      \n",
      "_________________________________________________________________\n",
      "max_pooling2d_7 (MaxPooling2 (None, 7, 7, 16)          0         \n",
      "_________________________________________________________________\n",
      "conv2d_12 (Conv2D)           (None, 7, 7, 32)          4640      \n",
      "_________________________________________________________________\n",
      "conv2d_transpose_4 (Conv2DTr (None, 7, 7, 16)          4624      \n",
      "_________________________________________________________________\n",
      "up_sampling2d_4 (UpSampling2 (None, 14, 14, 16)        0         \n",
      "_________________________________________________________________\n",
      "conv2d_transpose_5 (Conv2DTr (None, 14, 14, 8)         1160      \n",
      "_________________________________________________________________\n",
      "up_sampling2d_5 (UpSampling2 (None, 28, 28, 8)         0         \n",
      "_________________________________________________________________\n",
      "conv2d_13 (Conv2D)           (None, 28, 28, 1)         73        \n",
      "=================================================================\n",
      "Total params: 11,745\n",
      "Trainable params: 11,745\n",
      "Non-trainable params: 0\n",
      "_________________________________________________________________\n"
     ]
    }
   ]
  },
  {
   "cell_type": "code",
   "metadata": {
    "colab": {
     "base_uri": "https://localhost:8080/"
    },
    "id": "Vxhzta9ASCsk",
    "executionInfo": {
     "status": "ok",
     "timestamp": 1629901925207,
     "user_tz": -180,
     "elapsed": 22,
     "user": {
      "displayName": "Denys Derkach",
      "photoUrl": "https://lh3.googleusercontent.com/a-/AOh14GgJPjYUwEOIxT24dE8A9IyWRFkYtWjhDsN7i19e5w=s64",
      "userId": "00841824565919282778"
     }
    },
    "outputId": "7942ead9-84d8-47b7-bda3-36cdfed0f7cc"
   },
   "source": [
    "model_cnn_plus_dense = tf.keras.Sequential([\n",
    "                                            Conv2D(16, 3, padding='same', activation='relu', input_shape=(28, 28, 1)),\n",
    "                                            MaxPooling2D(2, 2),\n",
    "                                            Conv2D(32, 3, padding='same', activation='relu'),\n",
    "                                            MaxPooling2D(2, 2),\n",
    "                                            Flatten(),\n",
    "                                            Dense(128, activation='relu'),\n",
    "                                            Dense(7 * 7 * 32, activation='relu'),\n",
    "                                            Reshape((7, 7, 32)),\n",
    "                                            UpSampling2D((2, 2)),\n",
    "                                            Conv2DTranspose(16, 3, padding='same', activation='relu'),\n",
    "                                            UpSampling2D((2, 2)),\n",
    "                                            Conv2D(1, 3, padding='same', activation='sigmoid')\n",
    "])\n",
    "model_cnn_plus_dense.summary()\n",
    "\n",
    "model_cnn_plus_dense.compile(optimizer='adam', loss='binary_crossentropy', metrics=['mse'])\n",
    "\n",
    "# model_cnn_plus_dense.fit(x_train, x_train, epochs=10, validation_data=(x_test, x_test))"
   ],
   "execution_count": 11,
   "outputs": [
    {
     "name": "stdout",
     "output_type": "stream",
     "text": [
      "Model: \"sequential_5\"\n",
      "_________________________________________________________________\n",
      "Layer (type)                 Output Shape              Param #   \n",
      "=================================================================\n",
      "conv2d_14 (Conv2D)           (None, 28, 28, 16)        160       \n",
      "_________________________________________________________________\n",
      "max_pooling2d_8 (MaxPooling2 (None, 14, 14, 16)        0         \n",
      "_________________________________________________________________\n",
      "conv2d_15 (Conv2D)           (None, 14, 14, 32)        4640      \n",
      "_________________________________________________________________\n",
      "max_pooling2d_9 (MaxPooling2 (None, 7, 7, 32)          0         \n",
      "_________________________________________________________________\n",
      "flatten_2 (Flatten)          (None, 1568)              0         \n",
      "_________________________________________________________________\n",
      "dense_4 (Dense)              (None, 128)               200832    \n",
      "_________________________________________________________________\n",
      "dense_5 (Dense)              (None, 1568)              202272    \n",
      "_________________________________________________________________\n",
      "reshape_1 (Reshape)          (None, 7, 7, 32)          0         \n",
      "_________________________________________________________________\n",
      "up_sampling2d_6 (UpSampling2 (None, 14, 14, 32)        0         \n",
      "_________________________________________________________________\n",
      "conv2d_transpose_6 (Conv2DTr (None, 14, 14, 16)        4624      \n",
      "_________________________________________________________________\n",
      "up_sampling2d_7 (UpSampling2 (None, 28, 28, 16)        0         \n",
      "_________________________________________________________________\n",
      "conv2d_16 (Conv2D)           (None, 28, 28, 1)         145       \n",
      "=================================================================\n",
      "Total params: 412,673\n",
      "Trainable params: 412,673\n",
      "Non-trainable params: 0\n",
      "_________________________________________________________________\n"
     ]
    }
   ]
  },
  {
   "cell_type": "code",
   "metadata": {
    "colab": {
     "base_uri": "https://localhost:8080/"
    },
    "id": "WFuYiT2AUFhr",
    "executionInfo": {
     "status": "ok",
     "timestamp": 1629902655241,
     "user_tz": -180,
     "elapsed": 228,
     "user": {
      "displayName": "Denys Derkach",
      "photoUrl": "https://lh3.googleusercontent.com/a-/AOh14GgJPjYUwEOIxT24dE8A9IyWRFkYtWjhDsN7i19e5w=s64",
      "userId": "00841824565919282778"
     }
    },
    "outputId": "e1aeed65-b452-4126-839c-6c34529692c2"
   },
   "source": [
    "n_filters = 16\n",
    "inp = tf.keras.Input(shape=(28, 28, 1))\n",
    "\n",
    "conv_1 = Conv2D(n_filters, 3, activation='relu', padding='same')(inp)\n",
    "maxpool_1 = MaxPooling2D(2, 2)(conv_1)\n",
    "\n",
    "conv_2 = Conv2D(n_filters * 2, 3, activation='relu', padding='same')(maxpool_1)\n",
    "maxpool_2 = MaxPooling2D(2, 2)(conv_2)\n",
    "\n",
    "conv_3 = Conv2D(n_filters * 4, 3, padding='same', activation='relu')(maxpool_2)\n",
    "\n",
    "conv_tr_1 = Conv2DTranspose(n_filters * 2, 3, padding='same', activation='relu')(conv_3)\n",
    "upsample_1 = UpSampling2D((2, 2))(conv_tr_1)\n",
    "concat_1 = tf.keras.layers.Concatenate()([conv_2, upsample_1])\n",
    "\n",
    "conv_tr_2 = Conv2DTranspose(n_filters, 3, padding='same', activation='relu')(concat_1)\n",
    "upsample_2 = UpSampling2D((2, 2))(conv_tr_2)\n",
    "concat_2 = tf.keras.layers.Concatenate()([conv_1, upsample_2])\n",
    "\n",
    "conv_fin = Conv2D(1, 3, padding='same', activation='sigmoid')(concat_2)\n",
    "\n",
    "model_res_cnn = tf.keras.Model(inputs=inp, outputs=conv_fin)\n",
    "\n",
    "model_res_cnn.summary()\n",
    "\n",
    "model_res_cnn.compile(optimizer='adam', loss='binary_crossentropy', metrics=['mse'])\n",
    "\n",
    "# model_res_cnn.fit(x_train, x_train, epochs=3, validation_data=(x_test, x_test))"
   ],
   "execution_count": 12,
   "outputs": [
    {
     "name": "stdout",
     "output_type": "stream",
     "text": [
      "Model: \"model\"\n",
      "__________________________________________________________________________________________________\n",
      "Layer (type)                    Output Shape         Param #     Connected to                     \n",
      "==================================================================================================\n",
      "input_1 (InputLayer)            [(None, 28, 28, 1)]  0                                            \n",
      "__________________________________________________________________________________________________\n",
      "conv2d_17 (Conv2D)              (None, 28, 28, 16)   160         input_1[0][0]                    \n",
      "__________________________________________________________________________________________________\n",
      "max_pooling2d_10 (MaxPooling2D) (None, 14, 14, 16)   0           conv2d_17[0][0]                  \n",
      "__________________________________________________________________________________________________\n",
      "conv2d_18 (Conv2D)              (None, 14, 14, 32)   4640        max_pooling2d_10[0][0]           \n",
      "__________________________________________________________________________________________________\n",
      "max_pooling2d_11 (MaxPooling2D) (None, 7, 7, 32)     0           conv2d_18[0][0]                  \n",
      "__________________________________________________________________________________________________\n",
      "conv2d_19 (Conv2D)              (None, 7, 7, 64)     18496       max_pooling2d_11[0][0]           \n",
      "__________________________________________________________________________________________________\n",
      "conv2d_transpose_7 (Conv2DTrans (None, 7, 7, 32)     18464       conv2d_19[0][0]                  \n",
      "__________________________________________________________________________________________________\n",
      "up_sampling2d_8 (UpSampling2D)  (None, 14, 14, 32)   0           conv2d_transpose_7[0][0]         \n",
      "__________________________________________________________________________________________________\n",
      "concatenate (Concatenate)       (None, 14, 14, 64)   0           conv2d_18[0][0]                  \n",
      "                                                                 up_sampling2d_8[0][0]            \n",
      "__________________________________________________________________________________________________\n",
      "conv2d_transpose_8 (Conv2DTrans (None, 14, 14, 16)   9232        concatenate[0][0]                \n",
      "__________________________________________________________________________________________________\n",
      "up_sampling2d_9 (UpSampling2D)  (None, 28, 28, 16)   0           conv2d_transpose_8[0][0]         \n",
      "__________________________________________________________________________________________________\n",
      "concatenate_1 (Concatenate)     (None, 28, 28, 32)   0           conv2d_17[0][0]                  \n",
      "                                                                 up_sampling2d_9[0][0]            \n",
      "__________________________________________________________________________________________________\n",
      "conv2d_20 (Conv2D)              (None, 28, 28, 1)    289         concatenate_1[0][0]              \n",
      "==================================================================================================\n",
      "Total params: 51,281\n",
      "Trainable params: 51,281\n",
      "Non-trainable params: 0\n",
      "__________________________________________________________________________________________________\n"
     ]
    }
   ]
  },
  {
   "cell_type": "code",
   "metadata": {
    "colab": {
     "base_uri": "https://localhost:8080/",
     "height": 860
    },
    "id": "kvCpbaZMWwx-",
    "executionInfo": {
     "status": "ok",
     "timestamp": 1629905910623,
     "user_tz": -180,
     "elapsed": 31509,
     "user": {
      "displayName": "Denys Derkach",
      "photoUrl": "https://lh3.googleusercontent.com/a-/AOh14GgJPjYUwEOIxT24dE8A9IyWRFkYtWjhDsN7i19e5w=s64",
      "userId": "00841824565919282778"
     }
    },
    "outputId": "1564126f-2f1d-4d00-f402-8acb7585e4e9"
   },
   "source": [
    "test_model_autoencoder(model_classifier, model_dcnn_medium, x_test, y_test)"
   ],
   "execution_count": 13,
   "outputs": [
    {
     "name": "stdout",
     "output_type": "stream",
     "text": [
      "First line - noisy images made from test data (noise factor = 0.5)\n",
      "Second line - encoded images made from noisy data\n",
      "Third line - encoded images made from test data\n",
      "Fourth line - test data\n"
     ]
    },
    {
     "data": {
      "text/plain": "<Figure size 1440x576 with 40 Axes>",
      "image/png": "[encoded data removed]"
     },
     "metadata": {
      "needs_background": "light"
     },
     "output_type": "display_data"
    },
    {
     "name": "stdout",
     "output_type": "stream",
     "text": [
      "\n",
      "Accuracy of the model (without noise): 0.9896\n",
      "Accuracy of the model (with noise): 0.6981\n",
      "Accuracy of the model after 1-iteration 0.8902\n",
      "Accuracy of the model after 2-iteration 0.8737\n",
      "Accuracy of the model after 3-iteration 0.8395\n",
      "Accuracy of the model after 4-iteration 0.8059\n",
      "Accuracy of the model after 5-iteration 0.7753\n",
      "\n",
      "Accuracy of the model (without noise): 0.9896\n",
      "Accuracy of the model (with noise factor = 0.1): 0.989,  after using autoencoder: 0.9889, diff = -9.999999999998899e-05, diff(%): -0.010111223458037309\n",
      "Accuracy of the model (with noise factor = 0.2): 0.9864,  after using autoencoder: 0.9868, diff = 0.00039999999999995595, diff(%): 0.04055150040551054\n",
      "Accuracy of the model (with noise factor = 0.30000000000000004): 0.971,  after using autoencoder: 0.9798, diff = 0.00880000000000003, diff(%): 0.906282183316172\n",
      "Accuracy of the model (with noise factor = 0.4): 0.896,  after using autoencoder: 0.9564, diff = 0.06040000000000001, diff(%): 6.74107142857143\n",
      "Accuracy of the model (with noise factor = 0.5): 0.7058,  after using autoencoder: 0.8915, diff = 0.18569999999999998, diff(%): 26.310569566449416\n",
      "Accuracy of the model (with noise factor = 0.6): 0.4967,  after using autoencoder: 0.7749, diff = 0.27820000000000006, diff(%): 56.00966378095431\n",
      "Accuracy of the model (with noise factor = 0.7000000000000001): 0.3435,  after using autoencoder: 0.6521, diff = 0.3086, diff(%): 89.83988355167394\n",
      "Accuracy of the model (with noise factor = 0.8): 0.2436,  after using autoencoder: 0.5381, diff = 0.2945, diff(%): 120.89490968801313\n",
      "Accuracy of the model (with noise factor = 0.9): 0.1966,  after using autoencoder: 0.445, diff = 0.2484, diff(%): 126.34791454730419\n"
     ]
    }
   ]
  },
  {
   "cell_type": "code",
   "metadata": {
    "colab": {
     "base_uri": "https://localhost:8080/",
     "height": 133
    },
    "id": "r4CdLxjyiRcB",
    "executionInfo": {
     "status": "ok",
     "timestamp": 1629905963540,
     "user_tz": -180,
     "elapsed": 645,
     "user": {
      "displayName": "Denys Derkach",
      "photoUrl": "https://lh3.googleusercontent.com/a-/AOh14GgJPjYUwEOIxT24dE8A9IyWRFkYtWjhDsN7i19e5w=s64",
      "userId": "00841824565919282778"
     }
    },
    "outputId": "ac560c9d-2a57-45a5-be10-c2b43043af2d"
   },
   "source": [
    "plot_one_img(12, model_dcnn_medium, x_test, noise_factor = 0.5)"
   ],
   "execution_count": 14,
   "outputs": [
    {
     "data": {
      "text/plain": "<Figure size 432x288 with 3 Axes>",
      "image/png": "[encoded data removed]"
     },
     "metadata": {
      "needs_background": "light"
     },
     "output_type": "display_data"
    }
   ]
  },
  {
   "cell_type": "code",
   "metadata": {
    "id": "vxCD1ROEsEN5"
   },
   "source": [
    ""
   ],
   "execution_count": 14,
   "outputs": []
  }
 ]
}